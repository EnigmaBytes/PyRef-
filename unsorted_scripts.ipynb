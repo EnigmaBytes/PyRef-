{
 "cells": [
  {
   "cell_type": "code",
   "execution_count": null,
   "metadata": {},
   "outputs": [],
   "source": [
    "import keyring\n",
    "\n",
    "# Store credentials\n",
    "service_name = \"\"  # Service name (e.g., website name)\n",
    "username = \"\"\n",
    "password = \"\"\n",
    "\n",
    "# Store password in keyring (Username is used as an identifier)\n",
    "keyring.set_password(service_name, username, password)\n",
    "\n",
    "print(\"Credentials stored securely!\")\n"
   ]
  },
  {
   "cell_type": "code",
   "execution_count": null,
   "metadata": {},
   "outputs": [],
   "source": [
    "import keyring\n",
    "\n",
    "# Retrieve stored credentials\n",
    "service_name = \"\"\n",
    "username = \"\"  # You need to know the username\n",
    "\n",
    "password = keyring.get_password(service_name, username)\n",
    "\n",
    "if password:\n",
    "    print(f\"Password for {username}: {password}\")\n",
    "else:\n",
    "    print(\"No password found. Did you store it correctly?\")\n"
   ]
  }
 ],
 "metadata": {
  "language_info": {
   "name": "python"
  }
 },
 "nbformat": 4,
 "nbformat_minor": 2
}
