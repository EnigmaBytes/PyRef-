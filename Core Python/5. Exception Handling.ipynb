{
 "cells": [
  {
   "cell_type": "code",
   "execution_count": null,
   "metadata": {},
   "outputs": [],
   "source": [
    "# 🚀 Python Exception Handling Summary 🚀\n",
    "\n",
    "# 1️⃣ ZeroDivisionError → Division by zero\n",
    "try:\n",
    "    x = 1 / 0\n",
    "except ZeroDivisionError:\n",
    "    print(\"Cannot divide by zero!\")\n",
    "\n",
    "# 2️⃣ ValueError → Invalid conversion (e.g., str to int)\n",
    "try:\n",
    "    num = int(\"abc\")\n",
    "except ValueError:\n",
    "    print(\"Invalid input!\")\n",
    "\n",
    "# 3️⃣ TypeError → Wrong data type used in operation\n",
    "try:\n",
    "    x = \"hello\" + 5\n",
    "except TypeError:\n",
    "    print(\"Cannot add str and int!\")\n",
    "\n",
    "# 4️⃣ IndexError → List index out of range\n",
    "try:\n",
    "    lst = [1, 2, 3]\n",
    "    x = lst[5]\n",
    "except IndexError:\n",
    "    print(\"Index out of range!\")\n",
    "\n",
    "# 5️⃣ KeyError → Dictionary key does not exist\n",
    "try:\n",
    "    my_dict = {\"a\": 1}\n",
    "    x = my_dict[\"b\"]\n",
    "except KeyError:\n",
    "    print(\"Key not found!\")\n",
    "\n",
    "# 6️⃣ FileNotFoundError → Trying to open a non-existent file\n",
    "try:\n",
    "    with open(\"missing.txt\", \"r\") as file:\n",
    "        content = file.read()\n",
    "except FileNotFoundError:\n",
    "    print(\"File not found!\")\n",
    "\n",
    "# 7️⃣ AttributeError → Accessing a non-existent attribute\n",
    "try:\n",
    "    x = None\n",
    "    x.upper()\n",
    "except AttributeError:\n",
    "    print(\"Object has no such attribute!\")\n",
    "\n",
    "# 8️⃣ NameError → Variable not defined\n",
    "try:\n",
    "    print(undefined_variable)\n",
    "except NameError:\n",
    "    print(\"Variable not defined!\")\n",
    "\n",
    "# 9️⃣ ImportError → Failed to import a module\n",
    "try:\n",
    "    import nonexistent_module\n",
    "except ImportError:\n",
    "    print(\"Module not found!\")\n",
    "\n",
    "# 🔟 RuntimeError → Generic error during execution\n",
    "try:\n",
    "    raise RuntimeError(\"Something went wrong!\")\n",
    "except RuntimeError:\n",
    "    print(\"Caught a runtime error!\")\n",
    "\n",
    "# 🔹 StopIteration → Iteration beyond end of iterable\n",
    "try:\n",
    "    it = iter([1, 2])\n",
    "    next(it)\n",
    "    next(it)\n",
    "    next(it)  # Raises StopIteration\n",
    "except StopIteration:\n",
    "    print(\"No more items in iterator!\")\n",
    "\n",
    "# 🔹 AssertionError → Failed assertion check\n",
    "try:\n",
    "    assert 2 + 2 == 5\n",
    "except AssertionError:\n",
    "    print(\"Assertion failed!\")\n",
    "\n",
    "# 🔹 OSError → General I/O or system error (e.g., disk full)\n",
    "try:\n",
    "    open(\"/root/protected_file.txt\", \"w\")\n",
    "except OSError:\n",
    "    print(\"OS error occurred!\")\n",
    "\n",
    "# 🔹 KeyboardInterrupt → User interrupts program (Ctrl+C)\n",
    "try:\n",
    "    while True:\n",
    "        pass\n",
    "except KeyboardInterrupt:\n",
    "    print(\"Process interrupted by user!\")\n",
    "\n",
    "# 🔹 MemoryError → Out of memory (usually with large allocations)\n",
    "try:\n",
    "    huge_list = [1] * (10**10)  # May cause MemoryError\n",
    "except MemoryError:\n",
    "    print(\"Out of memory!\")\n",
    "\n",
    "# 🔹 NotImplementedError → Abstract method not implemented\n",
    "class Base:\n",
    "    def method(self):\n",
    "        raise NotImplementedError(\"Subclass must implement this method!\")\n",
    "\n",
    "try:\n",
    "    Base().method()\n",
    "except NotImplementedError:\n",
    "    print(\"Method not implemented!\")\n"
   ]
  },
  {
   "cell_type": "code",
   "execution_count": 2,
   "metadata": {},
   "outputs": [
    {
     "name": "stdout",
     "output_type": "stream",
     "text": [
      "Cannot divide by zero!\n"
     ]
    }
   ],
   "source": [
    "\n",
    "# Basic Exception Handling\n",
    "\n",
    "try:\n",
    "    result = 10 / 0\n",
    "except ZeroDivisionError:\n",
    "    print(\"Cannot divide by zero!\")  # Handles the error\n"
   ]
  },
  {
   "cell_type": "code",
   "execution_count": 5,
   "metadata": {},
   "outputs": [],
   "source": [
    "# Catching Multiple Exceptions\n",
    "\n",
    "try:\n",
    "    num = int(input(\"Enter a number: \"))  # Might raise ValueError\n",
    "    result = 10 / num  # Might raise ZeroDivisionError\n",
    "except ValueError:\n",
    "    print(\"Invalid input! Please enter a number.\")\n",
    "except ZeroDivisionError:\n",
    "    print(\"Cannot divide by zero!\")\n",
    "\n",
    "# Order matters: Catch specific exceptions before Exception, otherwise specific errors won't be reached.\n",
    "\n",
    "try:\n",
    "    num = int(input(\"Enter a number: \"))\n",
    "    result = 10 / num\n",
    "except Exception:  # ❌ Bad practice: Catches everything\n",
    "    print(\"Something went wrong!\")\n",
    "except ValueError:  # ❌ Unreachable (already caught by Exception)\n",
    "    print(\"Invalid input!\")\n"
   ]
  },
  {
   "cell_type": "code",
   "execution_count": 6,
   "metadata": {},
   "outputs": [
    {
     "name": "stdout",
     "output_type": "stream",
     "text": [
      "Result is 0.6666666666666666\n"
     ]
    }
   ],
   "source": [
    "# The else block runs only if no exceptions occur. \n",
    "\n",
    "try:\n",
    "    num = int(input(\"Enter a number: \"))\n",
    "    result = 10 / num\n",
    "except ZeroDivisionError:\n",
    "    print(\"Cannot divide by zero!\")\n",
    "else:\n",
    "    print(f\"Result is {result}\")  # Runs only if no exception\n"
   ]
  },
  {
   "cell_type": "code",
   "execution_count": 8,
   "metadata": {},
   "outputs": [
    {
     "name": "stdout",
     "output_type": "stream",
     "text": [
      "File not found!\n",
      "Closing file...\n",
      "File not found!\n"
     ]
    }
   ],
   "source": [
    "## The finally block always executes, even if an exception occurs.\n",
    "\n",
    "try:\n",
    "    file = open(\"data.txt\", \"r\")  # File might not exist\n",
    "    data = file.read()\n",
    "except FileNotFoundError:\n",
    "    print(\"File not found!\")\n",
    "finally:\n",
    "    print(\"Closing file...\")  # Ensures cleanup\n",
    "    if 'file' in locals():\n",
    "        file.close()\n",
    "\n",
    "\n",
    "\n"
   ]
  },
  {
   "cell_type": "code",
   "execution_count": 9,
   "metadata": {},
   "outputs": [
    {
     "name": "stdout",
     "output_type": "stream",
     "text": [
      "Error: Withdrawal limit exceeded!\n"
     ]
    }
   ],
   "source": [
    "## Raising Custom Exceptions\n",
    "\n",
    "def withdraw(amount):\n",
    "    if amount > 5000:\n",
    "        raise ValueError(\"Withdrawal limit exceeded!\")  # Custom error message\n",
    "    print(f\"Withdrawing ${amount}\")\n",
    "\n",
    "try:\n",
    "    withdraw(6000)\n",
    "except ValueError as e:\n",
    "    print(f\"Error: {e}\")  # Error: Withdrawal limit exceeded!\n"
   ]
  },
  {
   "cell_type": "code",
   "execution_count": 10,
   "metadata": {},
   "outputs": [
    {
     "name": "stdout",
     "output_type": "stream",
     "text": [
      "Caught exception: Negative numbers are not allowed!\n"
     ]
    }
   ],
   "source": [
    "## Creating Custom Exception Classes\n",
    "\n",
    "class NegativeNumberError(Exception):\n",
    "    \"\"\"Custom exception for negative numbers.\"\"\"\n",
    "    pass\n",
    "\n",
    "def check_positive(num):\n",
    "    if num < 0:\n",
    "        raise NegativeNumberError(\"Negative numbers are not allowed!\")\n",
    "\n",
    "try:\n",
    "    check_positive(-5)\n",
    "except NegativeNumberError as e:\n",
    "    print(f\"Caught exception: {e}\")\n"
   ]
  },
  {
   "cell_type": "code",
   "execution_count": 12,
   "metadata": {},
   "outputs": [
    {
     "name": "stdout",
     "output_type": "stream",
     "text": [
      "Invalid input! Please enter a valid number.\n",
      "Invalid input! Please enter a valid number.\n",
      "Invalid input! Please enter a valid number.\n",
      "Invalid input! Please enter a valid number.\n",
      "Invalid input! Please enter a valid number.\n",
      "Invalid input! Please enter a valid number.\n",
      "Valid number: 2\n"
     ]
    }
   ],
   "source": [
    "## Exception Handling in loops\n",
    "\n",
    "while True:\n",
    "    try:\n",
    "        num = int(input(\"Enter a number: \"))\n",
    "        print(f\"Valid number: {num}\")\n",
    "        break  # Exit loop if input is valid\n",
    "    except ValueError:\n",
    "        print(\"Invalid input! Please enter a valid number.\")\n"
   ]
  },
  {
   "cell_type": "markdown",
   "metadata": {},
   "source": [
    "## Unexpected Behaviors & Gotchas"
   ]
  },
  {
   "cell_type": "code",
   "execution_count": 14,
   "metadata": {},
   "outputs": [
    {
     "ename": "ValueError",
     "evalue": "invalid literal for int() with base 10: 'e'",
     "output_type": "error",
     "traceback": [
      "\u001b[1;31m---------------------------------------------------------------------------\u001b[0m",
      "\u001b[1;31mValueError\u001b[0m                                Traceback (most recent call last)",
      "Cell \u001b[1;32mIn[14], line 2\u001b[0m\n\u001b[0;32m      1\u001b[0m \u001b[38;5;28;01mtry\u001b[39;00m:\n\u001b[1;32m----> 2\u001b[0m     num \u001b[38;5;241m=\u001b[39m \u001b[38;5;28;43mint\u001b[39;49m\u001b[43m(\u001b[49m\u001b[38;5;28;43minput\u001b[39;49m\u001b[43m(\u001b[49m\u001b[38;5;124;43m\"\u001b[39;49m\u001b[38;5;124;43mEnter a number: \u001b[39;49m\u001b[38;5;124;43m\"\u001b[39;49m\u001b[43m)\u001b[49m\u001b[43m)\u001b[49m\n\u001b[0;32m      3\u001b[0m     result \u001b[38;5;241m=\u001b[39m \u001b[38;5;241m10\u001b[39m \u001b[38;5;241m/\u001b[39m num\n\u001b[0;32m      4\u001b[0m \u001b[38;5;28;01mexcept\u001b[39;00m \u001b[38;5;167;01mZeroDivisionError\u001b[39;00m:\n",
      "\u001b[1;31mValueError\u001b[0m: invalid literal for int() with base 10: 'e'"
     ]
    }
   ],
   "source": [
    "## If an exception occurs inside an except block, the original traceback is lost.\n",
    "\n",
    "try:\n",
    "    num = int(input(\"Enter a number: \"))\n",
    "    result = 10 / num\n",
    "except ZeroDivisionError:\n",
    "    print(\"Error occurred.\")\n",
    "    raise  # Reraises the original exception\n"
   ]
  },
  {
   "cell_type": "code",
   "execution_count": 17,
   "metadata": {},
   "outputs": [
    {
     "ename": "AssertionError",
     "evalue": "Number must be non-negative",
     "output_type": "error",
     "traceback": [
      "\u001b[1;31m---------------------------------------------------------------------------\u001b[0m",
      "\u001b[1;31mAssertionError\u001b[0m                            Traceback (most recent call last)",
      "Cell \u001b[1;32mIn[17], line 7\u001b[0m\n\u001b[0;32m      4\u001b[0m     \u001b[38;5;28;01massert\u001b[39;00m n \u001b[38;5;241m>\u001b[39m\u001b[38;5;241m=\u001b[39m \u001b[38;5;241m0\u001b[39m, \u001b[38;5;124m\"\u001b[39m\u001b[38;5;124mNumber must be non-negative\u001b[39m\u001b[38;5;124m\"\u001b[39m\n\u001b[0;32m      5\u001b[0m     \u001b[38;5;28;01mreturn\u001b[39;00m n \u001b[38;5;241m*\u001b[39m\u001b[38;5;241m*\u001b[39m \u001b[38;5;241m0.5\u001b[39m\n\u001b[1;32m----> 7\u001b[0m \u001b[38;5;28mprint\u001b[39m(\u001b[43msquare_root\u001b[49m\u001b[43m(\u001b[49m\u001b[38;5;241;43m-\u001b[39;49m\u001b[38;5;241;43m1\u001b[39;49m\u001b[43m)\u001b[49m)  \u001b[38;5;66;03m# ❌ AssertionError: Number must be non-negative\u001b[39;00m\n\u001b[0;32m      9\u001b[0m \u001b[38;5;66;03m## Use exceptions for user-facing errors, not assert.\u001b[39;00m\n",
      "Cell \u001b[1;32mIn[17], line 4\u001b[0m, in \u001b[0;36msquare_root\u001b[1;34m(n)\u001b[0m\n\u001b[0;32m      3\u001b[0m \u001b[38;5;28;01mdef\u001b[39;00m\u001b[38;5;250m \u001b[39m\u001b[38;5;21msquare_root\u001b[39m(n):\n\u001b[1;32m----> 4\u001b[0m     \u001b[38;5;28;01massert\u001b[39;00m n \u001b[38;5;241m>\u001b[39m\u001b[38;5;241m=\u001b[39m \u001b[38;5;241m0\u001b[39m, \u001b[38;5;124m\"\u001b[39m\u001b[38;5;124mNumber must be non-negative\u001b[39m\u001b[38;5;124m\"\u001b[39m\n\u001b[0;32m      5\u001b[0m     \u001b[38;5;28;01mreturn\u001b[39;00m n \u001b[38;5;241m*\u001b[39m\u001b[38;5;241m*\u001b[39m \u001b[38;5;241m0.5\u001b[39m\n",
      "\u001b[1;31mAssertionError\u001b[0m: Number must be non-negative"
     ]
    }
   ],
   "source": [
    "## Using assert for debugging\n",
    "\n",
    "def square_root(n):\n",
    "    assert n >= 0, \"Number must be non-negative\"\n",
    "    return n ** 0.5\n",
    "\n",
    "print(square_root(-1))  # ❌ AssertionError: Number must be non-negative\n",
    "\n",
    "## Use exceptions for user-facing errors, not assert.\n",
    "## Generally asserts will crash the program but exceptions will report the issues properly and can continue. "
   ]
  },
  {
   "cell_type": "code",
   "execution_count": 18,
   "metadata": {},
   "outputs": [
    {
     "name": "stderr",
     "output_type": "stream",
     "text": [
      "Exception in thread Thread-6:\n",
      "Traceback (most recent call last):\n",
      "  File \"c:\\Users\\frazz\\AppData\\Local\\Programs\\Python\\Python39\\lib\\threading.py\", line 954, in _bootstrap_inner\n",
      "    self.run()\n",
      "  File \"C:\\Users\\frazz\\AppData\\Roaming\\Python\\Python39\\site-packages\\ipykernel\\ipkernel.py\", line 766, in run_closure\n",
      "    _threading_Thread_run(self)\n",
      "  File \"c:\\Users\\frazz\\AppData\\Local\\Programs\\Python\\Python39\\lib\\threading.py\", line 892, in run\n",
      "    self._target(*self._args, **self._kwargs)\n",
      "  File \"C:\\Users\\frazz\\AppData\\Local\\Temp\\ipykernel_2740\\2433867304.py\", line 7, in faulty_thread\n",
      "RuntimeError: Something went wrong!\n"
     ]
    }
   ],
   "source": [
    "# Exception Handling in Multi-Threading\n",
    "# Each thread has its own exception handling. Uncaught exceptions do not propagate to the main thread.\n",
    "\n",
    "import threading\n",
    "\n",
    "def faulty_thread():\n",
    "    raise RuntimeError(\"Something went wrong!\")\n",
    "\n",
    "thread = threading.Thread(target=faulty_thread)\n",
    "thread.start()\n",
    "thread.join()  # ❌ Exception is lost, doesn't crash the program\n"
   ]
  },
  {
   "cell_type": "code",
   "execution_count": 19,
   "metadata": {},
   "outputs": [
    {
     "name": "stdout",
     "output_type": "stream",
     "text": [
      "Caught exception in thread: Something went wrong!\n"
     ]
    }
   ],
   "source": [
    "def safe_thread():\n",
    "    try:\n",
    "        raise RuntimeError(\"Something went wrong!\")\n",
    "    except Exception as e:\n",
    "        print(f\"Caught exception in thread: {e}\")\n",
    "\n",
    "thread = threading.Thread(target=safe_thread)\n",
    "thread.start()\n",
    "thread.join()\n"
   ]
  },
  {
   "cell_type": "code",
   "execution_count": null,
   "metadata": {},
   "outputs": [],
   "source": []
  }
 ],
 "metadata": {
  "kernelspec": {
   "display_name": "Python 3",
   "language": "python",
   "name": "python3"
  },
  "language_info": {
   "codemirror_mode": {
    "name": "ipython",
    "version": 3
   },
   "file_extension": ".py",
   "mimetype": "text/x-python",
   "name": "python",
   "nbconvert_exporter": "python",
   "pygments_lexer": "ipython3",
   "version": "3.9.5"
  }
 },
 "nbformat": 4,
 "nbformat_minor": 2
}
