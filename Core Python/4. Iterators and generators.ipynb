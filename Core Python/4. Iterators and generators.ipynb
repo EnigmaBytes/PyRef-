{
 "cells": [
  {
   "cell_type": "code",
   "execution_count": 1,
   "metadata": {},
   "outputs": [
    {
     "name": "stdout",
     "output_type": "stream",
     "text": [
      "1\n",
      "2\n",
      "3\n"
     ]
    }
   ],
   "source": [
    "## Iterators and Generators in Python\n",
    "# An iterator is an object that implements the __iter__() and __next__() methods.\n",
    "\n",
    "# Creating an iterator from a list\n",
    "my_list = [1, 2, 3, 4, 5]\n",
    "iterator = iter(my_list)  # Convert list to an iterator\n",
    "\n",
    "print(next(iterator))  # 1\n",
    "print(next(iterator))  # 2\n",
    "print(next(iterator))  # 3"
   ]
  },
  {
   "cell_type": "code",
   "execution_count": 2,
   "metadata": {},
   "outputs": [
    {
     "name": "stdout",
     "output_type": "stream",
     "text": [
      "4\n",
      "5\n"
     ]
    },
    {
     "ename": "StopIteration",
     "evalue": "",
     "output_type": "error",
     "traceback": [
      "\u001b[1;31m---------------------------------------------------------------------------\u001b[0m",
      "\u001b[1;31mStopIteration\u001b[0m                             Traceback (most recent call last)",
      "Cell \u001b[1;32mIn[2], line 3\u001b[0m\n\u001b[0;32m      1\u001b[0m \u001b[38;5;28mprint\u001b[39m(\u001b[38;5;28mnext\u001b[39m(iterator))  \u001b[38;5;66;03m# 4\u001b[39;00m\n\u001b[0;32m      2\u001b[0m \u001b[38;5;28mprint\u001b[39m(\u001b[38;5;28mnext\u001b[39m(iterator))  \u001b[38;5;66;03m# 5\u001b[39;00m\n\u001b[1;32m----> 3\u001b[0m \u001b[38;5;28mprint\u001b[39m(\u001b[38;5;28;43mnext\u001b[39;49m\u001b[43m(\u001b[49m\u001b[43miterator\u001b[49m\u001b[43m)\u001b[49m)  \u001b[38;5;66;03m# ❌ Raises StopIteration (Iterator is exhausted)\u001b[39;00m\n",
      "\u001b[1;31mStopIteration\u001b[0m: "
     ]
    }
   ],
   "source": [
    "print(next(iterator))  # 4\n",
    "print(next(iterator))  # 5\n",
    "print(next(iterator))  # ❌ Raises StopIteration (Iterator is exhausted)"
   ]
  },
  {
   "cell_type": "code",
   "execution_count": 3,
   "metadata": {},
   "outputs": [
    {
     "name": "stdout",
     "output_type": "stream",
     "text": [
      "1\n",
      "2\n",
      "3\n",
      "4\n",
      "5\n"
     ]
    }
   ],
   "source": [
    "for item in iter(my_list):\n",
    "    print(item)  # No StopIteration error"
   ]
  },
  {
   "cell_type": "code",
   "execution_count": 6,
   "metadata": {},
   "outputs": [
    {
     "name": "stdout",
     "output_type": "stream",
     "text": [
      "1\n",
      "2\n",
      "3\n",
      "4\n"
     ]
    }
   ],
   "source": [
    "class Counter:\n",
    "    def __init__(self, start, end):\n",
    "        self.current = start\n",
    "        self.end = end\n",
    "    \n",
    "    def __iter__(self):\n",
    "        return self  # An iterator must return itself\n",
    "    \n",
    "    def __next__(self):\n",
    "        if self.current >= self.end:\n",
    "            raise StopIteration  # Stop when reaching end\n",
    "        value = self.current\n",
    "        self.current += 1\n",
    "        return value\n",
    "\n",
    "counter = Counter(1, 5)\n",
    "for num in counter:\n",
    "    print(num)  # 1, 2, 3, 4"
   ]
  },
  {
   "cell_type": "code",
   "execution_count": 7,
   "metadata": {},
   "outputs": [
    {
     "name": "stdout",
     "output_type": "stream",
     "text": [
      "1\n",
      "2\n",
      "3\n"
     ]
    }
   ],
   "source": [
    "## A generator is a function that yields values lazily using yield.\n",
    "\n",
    "def simple_generator():\n",
    "    yield 1\n",
    "    yield 2\n",
    "    yield 3\n",
    "\n",
    "gen = simple_generator()\n",
    "print(next(gen))  # 1\n",
    "print(next(gen))  # 2\n",
    "print(next(gen))  # 3\n",
    "# print(next(gen))  # ❌ Raises StopIteration\n"
   ]
  },
  {
   "cell_type": "code",
   "execution_count": 8,
   "metadata": {},
   "outputs": [
    {
     "name": "stdout",
     "output_type": "stream",
     "text": [
      "1\n",
      "2\n",
      "3\n"
     ]
    }
   ],
   "source": [
    "for value in simple_generator():\n",
    "    print(value)  # 1, 2, 3\n"
   ]
  },
  {
   "cell_type": "code",
   "execution_count": 10,
   "metadata": {},
   "outputs": [
    {
     "name": "stdout",
     "output_type": "stream",
     "text": [
      "1\n",
      "2\n",
      "3\n"
     ]
    }
   ],
   "source": [
    "def infinite_counter(start=1):\n",
    "    while True:\n",
    "        yield start\n",
    "        start += 1\n",
    "\n",
    "counter = infinite_counter()\n",
    "print(next(counter))  # 1\n",
    "print(next(counter))  # 2\n",
    "print(next(counter))  # 3\n",
    "\n",
    "\"\"\"\n",
    "⚠️ Unexpected Behavior: This generator never stops. Be careful using for loops with it.\n",
    "\n",
    "✅ Solution: Use itertools.islice to limit iterations.\n",
    "\"\"\"\n"
   ]
  },
  {
   "cell_type": "code",
   "execution_count": 11,
   "metadata": {},
   "outputs": [
    {
     "name": "stdout",
     "output_type": "stream",
     "text": [
      "1\n",
      "2\n",
      "3\n",
      "4\n",
      "5\n"
     ]
    }
   ],
   "source": [
    "import itertools\n",
    "\n",
    "for num in itertools.islice(infinite_counter(), 5):\n",
    "    print(num)  # Stops at 5\n"
   ]
  },
  {
   "cell_type": "code",
   "execution_count": 12,
   "metadata": {},
   "outputs": [
    {
     "name": "stdout",
     "output_type": "stream",
     "text": [
      "0\n",
      "1\n",
      "4\n"
     ]
    }
   ],
   "source": [
    "# Generator expression (efficient, lazy evaluation)\n",
    "gen_exp = (x ** 2 for x in range(5))\n",
    "print(next(gen_exp))  # 0\n",
    "print(next(gen_exp))  # 1\n",
    "print(next(gen_exp))  # 4\n"
   ]
  },
  {
   "cell_type": "code",
   "execution_count": 13,
   "metadata": {},
   "outputs": [],
   "source": [
    "list_comp = [x ** 2 for x in range(10**6)]  # Uses lots of memory\n",
    "gen_expr = (x ** 2 for x in range(10**6))  # Uses minimal memory\n"
   ]
  },
  {
   "cell_type": "code",
   "execution_count": 14,
   "metadata": {},
   "outputs": [
    {
     "name": "stdout",
     "output_type": "stream",
     "text": [
      "0\n",
      "1\n",
      "2\n"
     ]
    }
   ],
   "source": [
    "def generator1():\n",
    "    yield from range(3)  # Same as yielding each number manually\n",
    "\n",
    "def generator2():\n",
    "    yield from generator1()  # Chain generators\n",
    "\n",
    "for num in generator2():\n",
    "    print(num)  # 0, 1, 2\n"
   ]
  },
  {
   "cell_type": "code",
   "execution_count": null,
   "metadata": {},
   "outputs": [],
   "source": [
    "## Real world uses\n",
    "# Reading large files \"Lazily\"\n",
    "\n",
    "def read_large_file(file_path):\n",
    "    with open(file_path, \"r\") as file:\n",
    "        for line in file:\n",
    "            yield line.strip()  # Yield one line at a time\n",
    "\n",
    "for line in read_large_file(\"large_file.txt\"):\n",
    "    print(line)  # Prints one line at a time (efficient)\n"
   ]
  },
  {
   "cell_type": "code",
   "execution_count": null,
   "metadata": {},
   "outputs": [],
   "source": [
    "## Streaming API responses\n",
    "\n",
    "import requests\n",
    "\n",
    "def fetch_data(url):\n",
    "    with requests.get(url, stream=True) as response:\n",
    "        for line in response.iter_lines():\n",
    "            yield line.decode(\"utf-8\")\n",
    "\n",
    "for data in fetch_data(\"https://example.com/api\"):\n",
    "    print(data)  # Processes API response line by line\n"
   ]
  },
  {
   "cell_type": "code",
   "execution_count": 18,
   "metadata": {},
   "outputs": [
    {
     "name": "stdout",
     "output_type": "stream",
     "text": [
      "3\n",
      "2\n",
      "1\n"
     ]
    }
   ],
   "source": [
    "## Using Yield inside a loop \n",
    "\n",
    "def count_down(n):\n",
    "    while n > 0:\n",
    "        yield n\n",
    "        n -= 1\n",
    "\n",
    "for num in count_down(3):\n",
    "    print(num)  # 3, 2, 1\n",
    "\n",
    "# Generators preserve state between next() calls, making them useful for stateful computations."
   ]
  },
  {
   "cell_type": "code",
   "execution_count": null,
   "metadata": {},
   "outputs": [],
   "source": [
    "\"\"\" Summary of Differences Between Iterators & Generators\n",
    "\n",
    "Feature\t            Iterators\t                                        Generators\n",
    "How it's created\tClass with __iter__() & __next__()\t                Function using yield\n",
    "Memory Usage\t    Uses more memory (stores data)\t                    Uses less memory (lazy eval)\n",
    "State Management\tMust manually track state\t                        Automatically preserves state\n",
    "Exhaustion\t        Can be reused if reinitialized\t                    Exhausted after first iteration\n",
    "Example Usage\t    iter(list), dict.items()\t                        yield in functions\n",
    "\"\"\""
   ]
  }
 ],
 "metadata": {
  "kernelspec": {
   "display_name": "Python 3",
   "language": "python",
   "name": "python3"
  },
  "language_info": {
   "codemirror_mode": {
    "name": "ipython",
    "version": 3
   },
   "file_extension": ".py",
   "mimetype": "text/x-python",
   "name": "python",
   "nbconvert_exporter": "python",
   "pygments_lexer": "ipython3",
   "version": "3.9.5"
  }
 },
 "nbformat": 4,
 "nbformat_minor": 2
}
