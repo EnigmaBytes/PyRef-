{
 "cells": [
  {
   "cell_type": "code",
   "execution_count": 1,
   "metadata": {},
   "outputs": [
    {
     "name": "stdout",
     "output_type": "stream",
     "text": [
      "Hello, World!\n",
      "This is a second line.\n"
     ]
    }
   ],
   "source": [
    "## Basic File Operations\n",
    "\n",
    "# Writing to a file (creates the file if it doesn’t exist)\n",
    "with open(\"example.txt\", \"w\") as file:\n",
    "    file.write(\"Hello, World!\\n\")\n",
    "    file.write(\"This is a second line.\")\n",
    "\n",
    "# Reading from a file\n",
    "with open(\"example.txt\", \"r\") as file:\n",
    "    content = file.read()\n",
    "    print(content)  # Outputs the whole file content\n"
   ]
  },
  {
   "cell_type": "code",
   "execution_count": 3,
   "metadata": {},
   "outputs": [
    {
     "name": "stdout",
     "output_type": "stream",
     "text": [
      "Hello, World!\n",
      "This is a second line.\n",
      "['Hello, World!\\n', 'This is a second line.']\n"
     ]
    }
   ],
   "source": [
    "## Reading Large Files Efficiently\n",
    "\n",
    "# Reading line by line (memory efficient for large files)\n",
    "with open(\"example.txt\", \"r\") as file:\n",
    "    for line in file:\n",
    "        print(line.strip())  # Strip removes trailing newline\n",
    "\n",
    "# Using readlines() (not recommended for very large files)\n",
    "with open(\"example.txt\", \"r\") as file:\n",
    "    lines = file.readlines()  # Returns a list of lines\n",
    "    print(lines)  "
   ]
  },
  {
   "cell_type": "code",
   "execution_count": 5,
   "metadata": {},
   "outputs": [],
   "source": [
    "## Writing to a File\n",
    "\n",
    "# Writing a list of lines to a file\n",
    "lines = [\"First line\\n\", \"Second line\\n\", \"Third line\\n\"]\n",
    "\n",
    "with open(\"example.txt\", \"w\") as file:\n",
    "    file.writelines(lines)  # Writes multiple lines at once\n",
    "\n",
    "# Appending to a file (does not overwrite existing content)\n",
    "with open(\"example.txt\", \"a\") as file:\n",
    "    file.write(\"Appended Line\\n\")\n",
    "\n"
   ]
  },
  {
   "cell_type": "code",
   "execution_count": null,
   "metadata": {},
   "outputs": [],
   "source": [
    "\"\"\" \n",
    "Mode\tDescription\n",
    "\"r\"\tRead (default)\n",
    "\"w\"\tWrite (overwrites file if exists)\n",
    "\"a\"\tAppend (writes at the end, does not overwrite)\n",
    "\"rb\"\tRead binary mode\n",
    "\"wb\"\tWrite binary mode\n",
    "\"r+\"\tRead and write (does not truncate)\n",
    "\"w+\"\tWrite and read (overwrites file)\n",
    "\"\"\"\n"
   ]
  },
  {
   "cell_type": "code",
   "execution_count": 7,
   "metadata": {},
   "outputs": [],
   "source": [
    "## Working with Different File Modes\n",
    "# Read and write without truncating the file\n",
    "with open(\"example.txt\", \"r+\") as file:\n",
    "    content = file.read()\n",
    "    file.write(\"\\nNew content added.\")  # Moves to end of file\n"
   ]
  },
  {
   "cell_type": "code",
   "execution_count": 20,
   "metadata": {},
   "outputs": [
    {
     "name": "stdout",
     "output_type": "stream",
     "text": [
      "b'\\x00\\x01\\x02\\x03'\n"
     ]
    }
   ],
   "source": [
    "## Handling Binary Files\n",
    "# Writing binary data\n",
    "with open(\"binaryfile.bin\", \"wb\") as file:\n",
    "    file.write(b'\\x00\\x01\\x02\\x03')  # Writing raw bytes\n",
    "\n",
    "# Reading binary data\n",
    "with open(\"binaryfile.bin\", \"rb\") as file:\n",
    "    data = file.read()\n",
    "    print(data)  # Output: b'\\x00\\x01\\x02\\x03'\n"
   ]
  },
  {
   "cell_type": "code",
   "execution_count": 21,
   "metadata": {},
   "outputs": [
    {
     "name": "stdout",
     "output_type": "stream",
     "text": [
      "Overwriting file with this text.\n"
     ]
    }
   ],
   "source": [
    "## Check if file exists before reading\n",
    "\n",
    "import os\n",
    "\n",
    "if os.path.exists(\"example.txt\"):\n",
    "    with open(\"example.txt\", \"r\") as file:\n",
    "        print(file.read())\n",
    "else:\n",
    "    print(\"File does not exist.\")\n"
   ]
  },
  {
   "cell_type": "code",
   "execution_count": 22,
   "metadata": {},
   "outputs": [
    {
     "name": "stdout",
     "output_type": "stream",
     "text": [
      "Overwriting file with this text.\n"
     ]
    }
   ],
   "source": [
    "## Using pathlib for cleaner file operations\n",
    "\n",
    "from pathlib import Path\n",
    "\n",
    "file_path = Path(\"example.txt\")\n",
    "\n",
    "if file_path.exists():\n",
    "    print(file_path.read_text())  # Read as a string\n",
    "    file_path.write_text(\"Overwriting file with this text.\")  # Write text (overwrites)\n",
    "else:\n",
    "    print(\"File not found.\")\n"
   ]
  },
  {
   "cell_type": "markdown",
   "metadata": {},
   "source": [
    "## Unexpected Behaviors & Gotchas"
   ]
  },
  {
   "cell_type": "code",
   "execution_count": 16,
   "metadata": {},
   "outputs": [],
   "source": [
    "file = open(\"example.txt\", \"r\")\n",
    "content = file.read()\n",
    "# file.close()  # ❌ Not closing can cause memory leaks\n",
    "\n",
    "# Solution: Use with open(...) which automatically closes the file."
   ]
  },
  {
   "cell_type": "code",
   "execution_count": 18,
   "metadata": {},
   "outputs": [],
   "source": [
    "# If the file doesn’t exist, \"a\" mode will create it\n",
    "with open(\"newfile.txt\", \"a\") as file:\n",
    "    file.write(\"This file was created in append mode.\\n\")\n"
   ]
  },
  {
   "cell_type": "code",
   "execution_count": null,
   "metadata": {},
   "outputs": [],
   "source": []
  }
 ],
 "metadata": {
  "kernelspec": {
   "display_name": "Python 3",
   "language": "python",
   "name": "python3"
  },
  "language_info": {
   "codemirror_mode": {
    "name": "ipython",
    "version": 3
   },
   "file_extension": ".py",
   "mimetype": "text/x-python",
   "name": "python",
   "nbconvert_exporter": "python",
   "pygments_lexer": "ipython3",
   "version": "3.9.5"
  }
 },
 "nbformat": 4,
 "nbformat_minor": 2
}
