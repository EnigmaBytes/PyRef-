{
 "cells": [
  {
   "cell_type": "code",
   "execution_count": 1,
   "metadata": {},
   "outputs": [
    {
     "name": "stdout",
     "output_type": "stream",
     "text": [
      "[1, 2, 99, 3, 4, 5, 6]\n",
      "6\n",
      "[1, 4, 9801, 16, 25]\n",
      "[[99, 2], [3, 4]]\n",
      "[[99, 2], [3, 4]]\n"
     ]
    }
   ],
   "source": [
    "## Lists: Ordered, Mutable, Allows Duplicates\n",
    "\n",
    "# Creating a list\n",
    "my_list = [1, 2, 3, 4, 5]\n",
    "\n",
    "# Adding elements\n",
    "my_list.append(6)  # Adds to the end\n",
    "my_list.insert(2, 99)  # Inserts at index 2\n",
    "print(my_list)  # [1, 2, 99, 3, 4, 5, 6]\n",
    "\n",
    "# Removing elements\n",
    "my_list.remove(3)  # Removes the first occurrence of 3\n",
    "popped = my_list.pop()  # Removes and returns last element\n",
    "print(popped)  # 6\n",
    "\n",
    "# List comprehension\n",
    "squared = [x**2 for x in my_list]\n",
    "print(squared)  # [1, 4, 9801, 16, 25]\n",
    "\n",
    "# Unexpected behavior\n",
    "nested_list = [[1, 2], [3, 4]]\n",
    "copy_list = nested_list[:]  # Shallow copy\n",
    "copy_list[0][0] = 99  # Modifies original list too!\n",
    "print(nested_list)  # [[99, 2], [3, 4]]\n",
    "\n",
    "# Use deepcopy to avoid this:\n",
    "import copy\n",
    "deep_copy_list = copy.deepcopy(nested_list)\n",
    "deep_copy_list[0][0] = 100\n",
    "print(nested_list)  # [[99, 2], [3, 4]]\n"
   ]
  },
  {
   "cell_type": "code",
   "execution_count": 2,
   "metadata": {},
   "outputs": [
    {
     "name": "stdout",
     "output_type": "stream",
     "text": [
      "{'name': 'Alice', 'age': 26, 'city': 'New York', 'country': 'USA'}\n",
      "name: Alice\n",
      "age: 26\n",
      "city: New York\n",
      "country: USA\n",
      "{0: 0, 1: 1, 2: 4, 3: 9, 4: 16}\n",
      "{'a': 99, 'b': 2}\n",
      "{'a': 99, 'b': 2}\n"
     ]
    }
   ],
   "source": [
    "## Dictionaries: Key-Value Pairs, Unordered (Python 3.6+ maintains insertion order)\n",
    "\n",
    "# Creating a dictionary\n",
    "my_dict = {\"name\": \"Alice\", \"age\": 25, \"city\": \"New York\"}\n",
    "\n",
    "# Adding & updating keys\n",
    "my_dict[\"age\"] = 26  # Updates existing key\n",
    "my_dict[\"country\"] = \"USA\"  # Adds new key\n",
    "print(my_dict)\n",
    "\n",
    "# Iterating over keys and values\n",
    "for key, value in my_dict.items():\n",
    "    print(f\"{key}: {value}\")\n",
    "\n",
    "# Dictionary comprehension\n",
    "squared_numbers = {x: x**2 for x in range(5)}\n",
    "print(squared_numbers)  # {0: 0, 1: 1, 2: 4, 3: 9, 4: 16}\n",
    "\n",
    "# Unexpected behavior\n",
    "dict1 = {\"a\": 1, \"b\": 2}\n",
    "dict2 = dict1  # Both variables reference the same dictionary!\n",
    "dict2[\"a\"] = 99\n",
    "print(dict1)  # {'a': 99, 'b': 2}\n",
    "\n",
    "# Solution: Use .copy() or deepcopy\n",
    "dict3 = dict1.copy()\n",
    "dict3[\"a\"] = 100\n",
    "print(dict1)  # {'a': 99, 'b': 2}\n"
   ]
  },
  {
   "cell_type": "code",
   "execution_count": 3,
   "metadata": {},
   "outputs": [
    {
     "name": "stdout",
     "output_type": "stream",
     "text": [
      "{1, 2, 4, 5, 6}\n",
      "{1, 2, 3, 4, 5} {3} {1, 2}\n"
     ]
    }
   ],
   "source": [
    "## Sets: Unordered, No Duplicates\n",
    "\n",
    "# Creating a set\n",
    "my_set = {1, 2, 3, 4, 5}\n",
    "\n",
    "# Adding & removing elements\n",
    "my_set.add(6)\n",
    "my_set.discard(3)  # No error if 3 is missing\n",
    "print(my_set)\n",
    "\n",
    "# Set operations\n",
    "set_a = {1, 2, 3}\n",
    "set_b = {3, 4, 5}\n",
    "\n",
    "union_set = set_a | set_b  # {1, 2, 3, 4, 5}\n",
    "intersection_set = set_a & set_b  # {3}\n",
    "difference_set = set_a - set_b  # {1, 2}\n",
    "\n",
    "print(union_set, intersection_set, difference_set)\n",
    "\n",
    "# Unexpected behavior\n",
    "mutable_set = {1, 2, (3, 4)}  # Tuples can be added\n",
    "# mutable_set.add([5, 6])  # ERROR! Lists are mutable and can't be added\n",
    "\n",
    "# Frozen sets (immutable sets)\n",
    "frozen = frozenset([1, 2, 3])\n",
    "# frozen.add(4)  # ERROR! Can't modify a frozen set\n"
   ]
  },
  {
   "cell_type": "code",
   "execution_count": 4,
   "metadata": {},
   "outputs": [
    {
     "name": "stdout",
     "output_type": "stream",
     "text": [
      "20\n",
      "40\n",
      "10 20 [30, 40]\n",
      "2\n",
      "([1, 2, 99], [3, 4])\n"
     ]
    }
   ],
   "source": [
    "## Tuples: Ordered, Immutable\n",
    "\n",
    "# Creating a tuple\n",
    "my_tuple = (10, 20, 30, 40)\n",
    "\n",
    "# Accessing elements\n",
    "print(my_tuple[1])  # 20\n",
    "print(my_tuple[-1])  # 40\n",
    "\n",
    "# Tuple unpacking\n",
    "a, b, *rest = my_tuple\n",
    "print(a, b, rest)  # 10 20 [30, 40]\n",
    "\n",
    "# Nested tuples\n",
    "nested_tuple = ((1, 2), (3, 4))\n",
    "print(nested_tuple[0][1])  # 2\n",
    "\n",
    "# Unexpected behavior\n",
    "mutable_tuple = ([1, 2], [3, 4])\n",
    "mutable_tuple[0].append(99)  # Mutating the list inside tuple!\n",
    "print(mutable_tuple)  # ([1, 2, 99], [3, 4])\n"
   ]
  },
  {
   "cell_type": "code",
   "execution_count": null,
   "metadata": {},
   "outputs": [],
   "source": []
  }
 ],
 "metadata": {
  "kernelspec": {
   "display_name": "Python 3",
   "language": "python",
   "name": "python3"
  },
  "language_info": {
   "codemirror_mode": {
    "name": "ipython",
    "version": 3
   },
   "file_extension": ".py",
   "mimetype": "text/x-python",
   "name": "python",
   "nbconvert_exporter": "python",
   "pygments_lexer": "ipython3",
   "version": "3.9.5"
  }
 },
 "nbformat": 4,
 "nbformat_minor": 2
}
