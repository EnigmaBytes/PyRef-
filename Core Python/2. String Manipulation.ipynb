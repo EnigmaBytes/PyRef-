{
 "cells": [
  {
   "cell_type": "code",
   "execution_count": 1,
   "metadata": {},
   "outputs": [
    {
     "name": "stdout",
     "output_type": "stream",
     "text": [
      "H\n",
      "!\n",
      "Hello\n",
      "World!\n",
      "13\n",
      "Hello Python\n"
     ]
    }
   ],
   "source": [
    "## Basic String Operations\n",
    "\n",
    "# Creating a string\n",
    "my_string = \"Hello, World!\"\n",
    "\n",
    "# Accessing characters\n",
    "print(my_string[0])  # 'H'\n",
    "print(my_string[-1])  # '!'\n",
    "\n",
    "# Slicing\n",
    "print(my_string[:5])  # 'Hello'\n",
    "print(my_string[7:])  # 'World!'\n",
    "\n",
    "# String length\n",
    "print(len(my_string))  # 13\n",
    "\n",
    "# Concatenation\n",
    "greeting = \"Hello\" + \" \" + \"Python\"\n",
    "print(greeting)  # 'Hello Python'\n"
   ]
  },
  {
   "cell_type": "code",
   "execution_count": 2,
   "metadata": {},
   "outputs": [
    {
     "name": "stdout",
     "output_type": "stream",
     "text": [
      " PYTHON PROGRAMMING \n",
      " python programming \n",
      " Python Programming \n",
      " python programming \n",
      "python programming\n",
      "python programming \n",
      " python programming\n",
      "8\n",
      "2\n",
      " JavaScript programming \n"
     ]
    }
   ],
   "source": [
    "## String Method\n",
    "\n",
    "text = \" python programming \"\n",
    "\n",
    "# Case transformation\n",
    "print(text.upper())  # ' PYTHON PROGRAMMING '\n",
    "print(text.lower())  # ' python programming '\n",
    "print(text.title())  # ' Python Programming '\n",
    "print(text.capitalize())  # ' python programming '\n",
    "\n",
    "# Stripping whitespace\n",
    "print(text.strip())  # 'python programming'\n",
    "print(text.lstrip())  # 'python programming '\n",
    "print(text.rstrip())  # ' python programming'\n",
    "\n",
    "# Finding substrings\n",
    "print(text.find(\"program\"))  # 8\n",
    "print(text.count(\"p\"))  # 2\n",
    "\n",
    "# Replacing text\n",
    "print(text.replace(\"python\", \"JavaScript\"))  # ' JavaScript programming '\n"
   ]
  },
  {
   "cell_type": "code",
   "execution_count": 3,
   "metadata": {},
   "outputs": [
    {
     "name": "stdout",
     "output_type": "stream",
     "text": [
      "My name is Alice and I am 25 years old.\n",
      "My name is Alice and I am 25 years old.\n",
      "My name is Alice and I am 25 years old.\n",
      "My name is Alice and I am 25 years old.\n"
     ]
    }
   ],
   "source": [
    "## String Formatting\n",
    "\n",
    "name = \"Alice\"\n",
    "age = 25\n",
    "\n",
    "# Old style formatting\n",
    "print(\"My name is %s and I am %d years old.\" % (name, age))\n",
    "\n",
    "# Using format()\n",
    "print(\"My name is {} and I am {} years old.\".format(name, age))\n",
    "print(\"My name is {1} and I am {0} years old.\".format(age, name))  # Reordering\n",
    "\n",
    "# Using f-strings (Python 3.6+)\n",
    "print(f\"My name is {name} and I am {age} years old.\")  # Preferred method\n"
   ]
  },
  {
   "cell_type": "code",
   "execution_count": 5,
   "metadata": {},
   "outputs": [
    {
     "name": "stdout",
     "output_type": "stream",
     "text": [
      "['apple', 'banana', 'grape', 'orange']\n",
      "apple | banana | grape | orange\n"
     ]
    }
   ],
   "source": [
    "## Splitting & Joining Strings\n",
    "\n",
    "sentence = \"apple,banana,grape,orange\"\n",
    "\n",
    "# Splitting\n",
    "fruits = sentence.split(\",\")\n",
    "print(fruits)  # ['apple', 'banana', 'grape', 'orange']\n",
    "\n",
    "# Joining\n",
    "new_sentence = \" | \".join(fruits)\n",
    "print(new_sentence)  # 'apple | banana | grape | orange'\n"
   ]
  },
  {
   "cell_type": "code",
   "execution_count": 7,
   "metadata": {},
   "outputs": [
    {
     "name": "stdout",
     "output_type": "stream",
     "text": [
      "True\n",
      "False\n",
      "True\n",
      "False\n",
      "True\n",
      "False\n"
     ]
    }
   ],
   "source": [
    "## Checking String Properties\n",
    "\n",
    "# Checking if all characters are alphanumeric\n",
    "print(\"Python123\".isalnum())  # True\n",
    "print(\"Python 123\".isalnum())  # False (space is not alphanumeric)\n",
    "\n",
    "# Checking if all characters are alphabetic\n",
    "print(\"Python\".isalpha())  # True\n",
    "print(\"Python123\".isalpha())  # False (contains numbers)\n",
    "\n",
    "# Checking if all characters are digits\n",
    "print(\"12345\".isdigit())  # True\n",
    "print(\"123a\".isdigit())  # False\n"
   ]
  },
  {
   "cell_type": "code",
   "execution_count": 8,
   "metadata": {},
   "outputs": [
    {
     "name": "stdout",
     "output_type": "stream",
     "text": [
      "!dlroW ,olleH\n"
     ]
    }
   ],
   "source": [
    "## Reverse a string\n",
    "\n",
    "my_string = \"Hello, World!\"\n",
    "reversed_string = my_string[::-1]  # Pythonic way\n",
    "print(reversed_string)  # '!dlroW ,olleH'\n"
   ]
  },
  {
   "cell_type": "markdown",
   "metadata": {},
   "source": [
    "## Unexpected Behaviors & Gotchas\n"
   ]
  },
  {
   "cell_type": "code",
   "execution_count": null,
   "metadata": {},
   "outputs": [],
   "source": [
    "\n",
    "# Strings are Immutable\n",
    "\n",
    "s = \"hello\"\n",
    "# s[0] = \"H\"  # ❌ ERROR: Strings are immutable\n",
    "s = \"Hello\"  # ✅ Correct way: Reassign a new string\n"
   ]
  },
  {
   "cell_type": "code",
   "execution_count": 12,
   "metadata": {},
   "outputs": [
    {
     "name": "stdout",
     "output_type": "stream",
     "text": [
      "['cat']\n",
      "['cat', 'dog']\n",
      "['cat']\n",
      "['dog']\n"
     ]
    }
   ],
   "source": [
    "## Mutable Default Arguments in Functions\n",
    "\n",
    "def append_string(word, suffix=[]):\n",
    "    suffix.append(word)\n",
    "    return suffix\n",
    "\n",
    "print(append_string(\"cat\"))  # ['cat']\n",
    "print(append_string(\"dog\"))  # ['cat', 'dog']  # Unexpected! The default list persists.\n",
    "\n",
    "# Fix using None as default\n",
    "def append_string_fixed(word, suffix=None):\n",
    "    if suffix is None:\n",
    "        suffix = []\n",
    "    suffix.append(word)\n",
    "    return suffix\n",
    "\n",
    "print(append_string_fixed(\"cat\"))  # ['cat']\n",
    "print(append_string_fixed(\"dog\"))  # ['dog'] ✅ Expected behavior\n"
   ]
  },
  {
   "cell_type": "code",
   "execution_count": 13,
   "metadata": {},
   "outputs": [
    {
     "name": "stdout",
     "output_type": "stream",
     "text": [
      "True\n",
      "True\n",
      "True\n",
      "True\n"
     ]
    }
   ],
   "source": [
    "## Using is vs == \n",
    "\n",
    "# is checks the memory location while == checks the value is the same space in memory\n",
    "\n",
    "a = \"hello\"\n",
    "b = \"hello\"\n",
    "print(a == b)  # ✅ True (checks value)\n",
    "print(a is b)  # ✅ True (Python caches short strings)\n",
    "\n",
    "\n",
    "long_string1 = \"a\" * 1000\n",
    "long_string2 = \"a\" * 1000\n",
    "print(long_string1 == long_string2)  # ✅ True\n",
    "print(long_string1 is long_string2)  # ❌ False (Different memory locations)\n"
   ]
  },
  {
   "cell_type": "code",
   "execution_count": 14,
   "metadata": {},
   "outputs": [
    {
     "name": "stdout",
     "output_type": "stream",
     "text": [
      "['This', '', '', 'is', '', '', 'a', '', 'test']\n",
      "['This', 'is', 'a', 'test']\n"
     ]
    }
   ],
   "source": [
    "## Splitting on Multiple Spaces\n",
    "\n",
    "text = \"This   is   a  test\"\n",
    "words = text.split(\" \")  # ❌ Unexpected: ['', '', '', 'is', '', '', 'a', '', 'test']\n",
    "print(words)\n",
    "\n",
    "# Fix: Use split() without an argument\n",
    "words = text.split()  # ✅ Correct: ['This', 'is', 'a', 'test']\n",
    "print(words)\n"
   ]
  },
  {
   "cell_type": "code",
   "execution_count": 18,
   "metadata": {},
   "outputs": [
    {
     "name": "stdout",
     "output_type": "stream",
     "text": [
      "cdabab\n"
     ]
    }
   ],
   "source": [
    "## Modifying Strings with replace()\n",
    "\n",
    "text = \"ababab\"\n",
    "new_text = text.replace(\"ab\", \"cd\", 1)  # Replaces only first occurrence\n",
    "print(new_text)  # 'cdabab'\n"
   ]
  }
 ],
 "metadata": {
  "kernelspec": {
   "display_name": "Python 3",
   "language": "python",
   "name": "python3"
  },
  "language_info": {
   "codemirror_mode": {
    "name": "ipython",
    "version": 3
   },
   "file_extension": ".py",
   "mimetype": "text/x-python",
   "name": "python",
   "nbconvert_exporter": "python",
   "pygments_lexer": "ipython3",
   "version": "3.9.5"
  }
 },
 "nbformat": 4,
 "nbformat_minor": 2
}
