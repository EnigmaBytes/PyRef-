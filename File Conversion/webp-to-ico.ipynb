{
 "cells": [
  {
   "cell_type": "code",
   "execution_count": null,
   "metadata": {},
   "outputs": [
    {
     "name": "stdout",
     "output_type": "stream",
     "text": [
      "Converted C:\\Users\\frazz\\Downloads\\DALL·E 2025-02-28 22.06.38 - A modern and sleek logo design for 'SENSE', a utility data preparation software. The logo should feature a stylized 'S' letter, with elements represen.webp to C:\\Users\\frazz\\Documents\\GitHub\\PyRef-\\File Conversion\\output.ico\n"
     ]
    }
   ],
   "source": [
    "from PIL import Image\n",
    "\n",
    "def convert_webp_to_ico(webp_path, ico_path):\n",
    "    # Open the WEBP image\n",
    "    with Image.open(webp_path) as img:\n",
    "        # Convert and save the image as ICO\n",
    "        img.save(ico_path, format='ICO')\n",
    "\n",
    "# Example usage\n",
    "webp_path = r\"path\\to\\.webp\"\n",
    "ico_path = r'C:\\Users\\frazz\\Documents\\GitHub\\PyRef-\\File Conversion\\output.ico'\n",
    "convert_webp_to_ico(webp_path, ico_path)\n",
    "\n",
    "print(f\"Converted {webp_path} to {ico_path}\")"
   ]
  },
  {
   "cell_type": "code",
   "execution_count": null,
   "metadata": {},
   "outputs": [],
   "source": []
  }
 ],
 "metadata": {
  "kernelspec": {
   "display_name": "Python 3",
   "language": "python",
   "name": "python3"
  },
  "language_info": {
   "codemirror_mode": {
    "name": "ipython",
    "version": 3
   },
   "file_extension": ".py",
   "mimetype": "text/x-python",
   "name": "python",
   "nbconvert_exporter": "python",
   "pygments_lexer": "ipython3",
   "version": "3.12.9"
  }
 },
 "nbformat": 4,
 "nbformat_minor": 2
}
